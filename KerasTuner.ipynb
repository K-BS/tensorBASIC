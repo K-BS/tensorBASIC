{
 "cells": [
  {
   "cell_type": "code",
   "execution_count": 9,
   "id": "hungry-disposition",
   "metadata": {},
   "outputs": [],
   "source": [
    "import tensorflow as tf\n",
    "from tensorflow import keras\n",
    "\n",
    "import IPython"
   ]
  },
  {
   "cell_type": "code",
   "execution_count": 10,
   "id": "exposed-problem",
   "metadata": {},
   "outputs": [],
   "source": [
    "!pip install -q -U keras-tuner\n",
    "import kerastuner as kt\n",
    "\n",
    "# kerastuner를 kt라는 이름으로 설치하고 이용할꺼임"
   ]
  },
  {
   "cell_type": "code",
   "execution_count": 11,
   "id": "particular-excerpt",
   "metadata": {},
   "outputs": [],
   "source": [
    "(img_train, label_train), (img_test, label_test) = keras.datasets.fashion_mnist.load_data()\n",
    "\n",
    "# 옷MNIST"
   ]
  },
  {
   "cell_type": "code",
   "execution_count": 12,
   "id": "administrative-modeling",
   "metadata": {},
   "outputs": [],
   "source": [
    "img_train = img_train.astype('float32') / 255.0\n",
    "img_test = img_test.astype('float32') / 255.0\n",
    "\n",
    "# 아까와는 달리 0~1 값으로만 바꿔줌, 정규화\n",
    "# unit8 -> float32"
   ]
  },
  {
   "cell_type": "markdown",
   "id": "accomplished-estate",
   "metadata": {},
   "source": [
    "**모델정의**"
   ]
  },
  {
   "cell_type": "code",
   "execution_count": 19,
   "id": "employed-suspect",
   "metadata": {},
   "outputs": [],
   "source": [
    "def model_builder(hp):\n",
    "  model = keras.Sequential()\n",
    "  model.add(keras.layers.Flatten(input_shape=(28, 28)))\n",
    "\n",
    "  # inputshape는 28x28인데 flat하게 해주는 레이어 더할거\n",
    "  \n",
    "  hp_units = hp.Int('units', min_value = 32, max_value = 512, step = 32)\n",
    "  model.add(keras.layers.Dense(units = hp_units, activation = 'relu'))\n",
    "  model.add(keras.layers.Dense(10))\n",
    "\n",
    "    # model.add(tf.keras.layers.Dense(units=32, activation='relu'))\n",
    "    # model.add(tf.keras.layers.Dense(units=64, activation='relu'))\n",
    "    # ...\n",
    "    # model.add(tf.keras.layers.Dense(units=512, activation='relu'))\n",
    "    # 어느 유닛설정이 가장 성능이 좋은지?\n",
    "  hp_learning_rate = hp.Choice('learning_rate', values = [1e-2, 1e-3, 1e-4]) \n",
    "\n",
    "  model.compile(optimizer = keras.optimizers.Adam(learning_rate = hp_learning_rate),\n",
    "                loss = keras.losses.SparseCategoricalCrossentropy(from_logits = True), \n",
    "                metrics = ['accuracy'])\n",
    "    #learning rate = 0.01, 0.001, 0.0001\n",
    "    # 어느 학습률이 가장 성능이 좋은지?\n",
    "\n",
    "  return model"
   ]
  },
  {
   "cell_type": "code",
   "execution_count": 20,
   "id": "jewish-costs",
   "metadata": {},
   "outputs": [],
   "source": [
    "tuner = kt.Hyperband(model_builder,\n",
    "                     objective = 'val_accuracy', \n",
    "                     max_epochs = 10,\n",
    "                     factor = 3,\n",
    "                     directory = 'my_dir',\n",
    "                     project_name = 'intro_to_kt')\n",
    "\n",
    "# Hyperband 튜닝 알고리즘 사용, 몇 개의 epochs에 대해 많은 수의 모델 훈련 후\n",
    "# 성능이 좋은 절반만 다음 단계로 넘김"
   ]
  },
  {
   "cell_type": "code",
   "execution_count": 21,
   "id": "serial-trader",
   "metadata": {},
   "outputs": [],
   "source": [
    "class ClearTrainingOutput(tf.keras.callbacks.Callback):\n",
    "  def on_train_end(*args, **kwargs):\n",
    "    IPython.display.clear_output(wait = True)\n",
    "    \n",
    "# 에폭이 끝날 때마다 결과 지움"
   ]
  },
  {
   "cell_type": "code",
   "execution_count": 22,
   "id": "blond-personality",
   "metadata": {},
   "outputs": [
    {
     "name": "stdout",
     "output_type": "stream",
     "text": [
      "Trial 30 Complete [00h 00m 32s]\n",
      "val_accuracy: 0.890500009059906\n",
      "\n",
      "Best val_accuracy So Far: 0.890500009059906\n",
      "Total elapsed time: 00h 04m 47s\n",
      "INFO:tensorflow:Oracle triggered exit\n"
     ]
    }
   ],
   "source": [
    "tuner.search(img_train, label_train, epochs = 10, validation_data = (img_test, label_test), callbacks = [ClearTrainingOutput()])"
   ]
  },
  {
   "cell_type": "code",
   "execution_count": 23,
   "id": "incomplete-discretion",
   "metadata": {},
   "outputs": [],
   "source": [
    "best_hps = tuner.get_best_hyperparameters(num_trials = 1)[0]\n",
    "# 성능이 제일 좋은 하이퍼파라미터 들을 best_hps로 선언"
   ]
  },
  {
   "cell_type": "code",
   "execution_count": 24,
   "id": "specific-nancy",
   "metadata": {},
   "outputs": [
    {
     "name": "stdout",
     "output_type": "stream",
     "text": [
      "Epoch 1/10\n",
      "1875/1875 [==============================] - 4s 2ms/step - loss: 0.5910 - accuracy: 0.7924 - val_loss: 0.4006 - val_accuracy: 0.8551\n",
      "Epoch 2/10\n",
      "1875/1875 [==============================] - 3s 2ms/step - loss: 0.3673 - accuracy: 0.8677 - val_loss: 0.3880 - val_accuracy: 0.8631\n",
      "Epoch 3/10\n",
      "1875/1875 [==============================] - 3s 2ms/step - loss: 0.3327 - accuracy: 0.8780 - val_loss: 0.3575 - val_accuracy: 0.8711\n",
      "Epoch 4/10\n",
      "1875/1875 [==============================] - 3s 2ms/step - loss: 0.3023 - accuracy: 0.8890 - val_loss: 0.3814 - val_accuracy: 0.8660\n",
      "Epoch 5/10\n",
      "1875/1875 [==============================] - 3s 2ms/step - loss: 0.2858 - accuracy: 0.8947 - val_loss: 0.3344 - val_accuracy: 0.8795\n",
      "Epoch 6/10\n",
      "1875/1875 [==============================] - 3s 2ms/step - loss: 0.2625 - accuracy: 0.9011 - val_loss: 0.3444 - val_accuracy: 0.8791\n",
      "Epoch 7/10\n",
      "1875/1875 [==============================] - 3s 2ms/step - loss: 0.2524 - accuracy: 0.9068 - val_loss: 0.3509 - val_accuracy: 0.8805\n",
      "Epoch 8/10\n",
      "1875/1875 [==============================] - 3s 2ms/step - loss: 0.2407 - accuracy: 0.9085 - val_loss: 0.3228 - val_accuracy: 0.8880\n",
      "Epoch 9/10\n",
      "1875/1875 [==============================] - 3s 2ms/step - loss: 0.2298 - accuracy: 0.9146 - val_loss: 0.3242 - val_accuracy: 0.8838\n",
      "Epoch 10/10\n",
      "1875/1875 [==============================] - 3s 2ms/step - loss: 0.2176 - accuracy: 0.9185 - val_loss: 0.3303 - val_accuracy: 0.8859\n"
     ]
    },
    {
     "data": {
      "text/plain": [
       "<tensorflow.python.keras.callbacks.History at 0x169895fd6d0>"
      ]
     },
     "execution_count": 24,
     "metadata": {},
     "output_type": "execute_result"
    }
   ],
   "source": [
    "model = tuner.hypermodel.build(best_hps)\n",
    "model.fit(img_train, label_train, epochs = 10, validation_data = (img_test, label_test))\n",
    "\n",
    "#최적의 하이퍼파라미터로 훈련해보기"
   ]
  }
 ],
 "metadata": {
  "kernelspec": {
   "display_name": "Python 3",
   "language": "python",
   "name": "python3"
  },
  "language_info": {
   "codemirror_mode": {
    "name": "ipython",
    "version": 3
   },
   "file_extension": ".py",
   "mimetype": "text/x-python",
   "name": "python",
   "nbconvert_exporter": "python",
   "pygments_lexer": "ipython3",
   "version": "3.8.8"
  }
 },
 "nbformat": 4,
 "nbformat_minor": 5
}
