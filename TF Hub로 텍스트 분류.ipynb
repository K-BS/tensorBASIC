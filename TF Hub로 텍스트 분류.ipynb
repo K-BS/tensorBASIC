{
 "cells": [
  {
   "cell_type": "code",
   "execution_count": 15,
   "id": "checked-parking",
   "metadata": {},
   "outputs": [],
   "source": [
    "import numpy as np\n",
    "import tensorflow as tf\n",
    "\n",
    "!pip install -q tensorflow-hub\n",
    "!pip install -q tfds-nightly\n",
    "import tensorflow_hub as hub\n",
    "import tensorflow_datasets as tfds"
   ]
  },
  {
   "cell_type": "code",
   "execution_count": 16,
   "id": "focused-directory",
   "metadata": {},
   "outputs": [],
   "source": [
    "train_data, validation_data, test_data = tfds.load(\n",
    "name=\"imdb_reviews\",\n",
    "split=('train[:60%]', 'train[60%:]', 'test'),\n",
    "as_supervised=True) # tuple형태로 데이터를 return받는다"
   ]
  },
  {
   "cell_type": "code",
   "execution_count": 17,
   "id": "egyptian-exception",
   "metadata": {},
   "outputs": [
    {
     "data": {
      "text/plain": [
       "<tf.Tensor: shape=(10,), dtype=string, numpy=\n",
       "array([b\"This was an absolutely terrible movie. Don't be lured in by Christopher Walken or Michael Ironside. Both are great actors, but this must simply be their worst role in history. Even their great acting could not redeem this movie's ridiculous storyline. This movie is an early nineties US propaganda piece. The most pathetic scenes were those when the Columbian rebels were making their cases for revolutions. Maria Conchita Alonso appeared phony, and her pseudo-love affair with Walken was nothing but a pathetic emotional plug in a movie that was devoid of any real meaning. I am disappointed that there are movies like this, ruining actor's like Christopher Walken's good name. I could barely sit through it.\",\n",
       "       b'I have been known to fall asleep during films, but this is usually due to a combination of things including, really tired, being warm and comfortable on the sette and having just eaten a lot. However on this occasion I fell asleep because the film was rubbish. The plot development was constant. Constantly slow and boring. Things seemed to happen, but with no explanation of what was causing them or why. I admit, I may have missed part of the film, but i watched the majority of it and everything just seemed to happen of its own accord without any real concern for anything else. I cant recommend this film at all.',\n",
       "       b'Mann photographs the Alberta Rocky Mountains in a superb fashion, and Jimmy Stewart and Walter Brennan give enjoyable performances as they always seem to do. <br /><br />But come on Hollywood - a Mountie telling the people of Dawson City, Yukon to elect themselves a marshal (yes a marshal!) and to enforce the law themselves, then gunfighters battling it out on the streets for control of the town? <br /><br />Nothing even remotely resembling that happened on the Canadian side of the border during the Klondike gold rush. Mr. Mann and company appear to have mistaken Dawson City for Deadwood, the Canadian North for the American Wild West.<br /><br />Canadian viewers be prepared for a Reefer Madness type of enjoyable howl with this ludicrous plot, or, to shake your head in disgust.',\n",
       "       b'This is the kind of film for a snowy Sunday afternoon when the rest of the world can go ahead with its own business as you descend into a big arm-chair and mellow for a couple of hours. Wonderful performances from Cher and Nicolas Cage (as always) gently row the plot along. There are no rapids to cross, no dangerous waters, just a warm and witty paddle through New York life at its best. A family film in every sense and one that deserves the praise it received.',\n",
       "       b'As others have mentioned, all the women that go nude in this film are mostly absolutely gorgeous. The plot very ably shows the hypocrisy of the female libido. When men are around they want to be pursued, but when no \"men\" are around, they become the pursuers of a 14 year old boy. And the boy becomes a man really fast (we should all be so lucky at this age!). He then gets up the courage to pursue his true love.',\n",
       "       b\"This is a film which should be seen by anybody interested in, effected by, or suffering from an eating disorder. It is an amazingly accurate and sensitive portrayal of bulimia in a teenage girl, its causes and its symptoms. The girl is played by one of the most brilliant young actresses working in cinema today, Alison Lohman, who was later so spectacular in 'Where the Truth Lies'. I would recommend that this film be shown in all schools, as you will never see a better on this subject. Alison Lohman is absolutely outstanding, and one marvels at her ability to convey the anguish of a girl suffering from this compulsive disorder. If barometers tell us the air pressure, Alison Lohman tells us the emotional pressure with the same degree of accuracy. Her emotional range is so precise, each scene could be measured microscopically for its gradations of trauma, on a scale of rising hysteria and desperation which reaches unbearable intensity. Mare Winningham is the perfect choice to play her mother, and does so with immense sympathy and a range of emotions just as finely tuned as Lohman's. Together, they make a pair of sensitive emotional oscillators vibrating in resonance with one another. This film is really an astonishing achievement, and director Katt Shea should be proud of it. The only reason for not seeing it is if you are not interested in people. But even if you like nature films best, this is after all animal behaviour at the sharp edge. Bulimia is an extreme version of how a tormented soul can destroy her own body in a frenzy of despair. And if we don't sympathise with people suffering from the depths of despair, then we are dead inside.\",\n",
       "       b'Okay, you have:<br /><br />Penelope Keith as Miss Herringbone-Tweed, B.B.E. (Backbone of England.) She\\'s killed off in the first scene - that\\'s right, folks; this show has no backbone!<br /><br />Peter O\\'Toole as Ol\\' Colonel Cricket from The First War and now the emblazered Lord of the Manor.<br /><br />Joanna Lumley as the ensweatered Lady of the Manor, 20 years younger than the colonel and 20 years past her own prime but still glamourous (Brit spelling, not mine) enough to have a toy-boy on the side. It\\'s alright, they have Col. Cricket\\'s full knowledge and consent (they guy even comes \\'round for Christmas!) Still, she\\'s considerate of the colonel enough to have said toy-boy her own age (what a gal!)<br /><br />David McCallum as said toy-boy, equally as pointlessly glamourous as his squeeze. Pilcher couldn\\'t come up with any cover for him within the story, so she gave him a hush-hush job at the Circus.<br /><br />and finally:<br /><br />Susan Hampshire as Miss Polonia Teacups, Venerable Headmistress of the Venerable Girls\\' Boarding-School, serving tea in her office with a dash of deep, poignant advice for life in the outside world just before graduation. Her best bit of advice: \"I\\'ve only been to Nancherrow (the local Stately Home of England) once. I thought it was very beautiful but, somehow, not part of the real world.\" Well, we can\\'t say they didn\\'t warn us.<br /><br />Ah, Susan - time was, your character would have been running the whole show. They don\\'t write \\'em like that any more. Our loss, not yours.<br /><br />So - with a cast and setting like this, you have the re-makings of \"Brideshead Revisited,\" right?<br /><br />Wrong! They took these 1-dimensional supporting roles because they paid so well. After all, acting is one of the oldest temp-jobs there is (YOU name another!)<br /><br />First warning sign: lots and lots of backlighting. They get around it by shooting outdoors - \"hey, it\\'s just the sunlight!\"<br /><br />Second warning sign: Leading Lady cries a lot. When not crying, her eyes are moist. That\\'s the law of romance novels: Leading Lady is \"dewy-eyed.\"<br /><br />Henceforth, Leading Lady shall be known as L.L.<br /><br />Third warning sign: L.L. actually has stars in her eyes when she\\'s in love. Still, I\\'ll give Emily Mortimer an award just for having to act with that spotlight in her eyes (I wonder . did they use contacts?)<br /><br />And lastly, fourth warning sign: no on-screen female character is \"Mrs.\" She\\'s either \"Miss\" or \"Lady.\"<br /><br />When all was said and done, I still couldn\\'t tell you who was pursuing whom and why. I couldn\\'t even tell you what was said and done.<br /><br />To sum up: they all live through World War II without anything happening to them at all.<br /><br />OK, at the end, L.L. finds she\\'s lost her parents to the Japanese prison camps and baby sis comes home catatonic. Meanwhile (there\\'s always a \"meanwhile,\") some young guy L.L. had a crush on (when, I don\\'t know) comes home from some wartime tough spot and is found living on the street by Lady of the Manor (must be some street if SHE\\'s going to find him there.) Both war casualties are whisked away to recover at Nancherrow (SOMEBODY has to be \"whisked away\" SOMEWHERE in these romance stories!)<br /><br />Great drama.',\n",
       "       b'The film is based on a genuine 1950s novel.<br /><br />Journalist Colin McInnes wrote a set of three \"London novels\": \"Absolute Beginners\", \"City of Spades\" and \"Mr Love and Justice\". I have read all three. The first two are excellent. The last, perhaps an experiment that did not come off. But McInnes\\'s work is highly acclaimed; and rightly so. This musical is the novelist\\'s ultimate nightmare - to see the fruits of one\\'s mind being turned into a glitzy, badly-acted, soporific one-dimensional apology of a film that says it captures the spirit of 1950s London, and does nothing of the sort.<br /><br />Thank goodness Colin McInnes wasn\\'t alive to witness it.',\n",
       "       b'I really love the sexy action and sci-fi films of the sixties and its because of the actress\\'s that appeared in them. They found the sexiest women to be in these films and it didn\\'t matter if they could act (Remember \"Candy\"?). The reason I was disappointed by this film was because it wasn\\'t nostalgic enough. The story here has a European sci-fi film called \"Dragonfly\" being made and the director is fired. So the producers decide to let a young aspiring filmmaker (Jeremy Davies) to complete the picture. They\\'re is one real beautiful woman in the film who plays Dragonfly but she\\'s barely in it. Film is written and directed by Roman Coppola who uses some of his fathers exploits from his early days and puts it into the script. I wish the film could have been an homage to those early films. They could have lots of cameos by actors who appeared in them. There is one actor in this film who was popular from the sixties and its John Phillip Law (Barbarella). Gerard Depardieu, Giancarlo Giannini and Dean Stockwell appear as well. I guess I\\'m going to have to continue waiting for a director to make a good homage to the films of the sixties. If any are reading this, \"Make it as sexy as you can\"! I\\'ll be waiting!',\n",
       "       b'Sure, this one isn\\'t really a blockbuster, nor does it target such a position. \"Dieter\" is the first name of a quite popular German musician, who is either loved or hated for his kind of acting and thats exactly what this movie is about. It is based on the autobiography \"Dieter Bohlen\" wrote a few years ago but isn\\'t meant to be accurate on that. The movie is filled with some sexual offensive content (at least for American standard) which is either amusing (not for the other \"actors\" of course) or dumb - it depends on your individual kind of humor or on you being a \"Bohlen\"-Fan or not. Technically speaking there isn\\'t much to criticize. Speaking of me I find this movie to be an OK-movie.'],\n",
       "      dtype=object)>"
      ]
     },
     "execution_count": 17,
     "metadata": {},
     "output_type": "execute_result"
    }
   ],
   "source": [
    "train_examples_batch, train_labels_batch = next(iter(train_data.batch(10)))\n",
    "train_examples_batch"
   ]
  },
  {
   "cell_type": "code",
   "execution_count": 21,
   "id": "deadly-perception",
   "metadata": {},
   "outputs": [
    {
     "data": {
      "text/plain": [
       "<tf.Tensor: shape=(10,), dtype=int64, numpy=array([0, 0, 0, 1, 1, 1, 0, 0, 0, 0], dtype=int64)>"
      ]
     },
     "execution_count": 21,
     "metadata": {},
     "output_type": "execute_result"
    }
   ],
   "source": [
    "train_labels_batch"
   ]
  },
  {
   "cell_type": "code",
   "execution_count": 32,
   "id": "subject-status",
   "metadata": {},
   "outputs": [
    {
     "name": "stdout",
     "output_type": "stream",
     "text": [
      "WARNING:tensorflow:11 out of the last 11 calls to <function recreate_function.<locals>.restored_function_body at 0x000001B8FE4DA5E8> triggered tf.function retracing. Tracing is expensive and the excessive number of tracings could be due to (1) creating @tf.function repeatedly in a loop, (2) passing tensors with different shapes, (3) passing Python objects instead of tensors. For (1), please define your @tf.function outside of the loop. For (2), @tf.function has experimental_relax_shapes=True option that relaxes argument shapes that can avoid unnecessary retracing. For (3), please refer to https://www.tensorflow.org/tutorials/customization/performance#python_or_tensor_args and https://www.tensorflow.org/api_docs/python/tf/function for  more details.\n"
     ]
    },
    {
     "name": "stderr",
     "output_type": "stream",
     "text": [
      "WARNING:tensorflow:11 out of the last 11 calls to <function recreate_function.<locals>.restored_function_body at 0x000001B8FE4DA5E8> triggered tf.function retracing. Tracing is expensive and the excessive number of tracings could be due to (1) creating @tf.function repeatedly in a loop, (2) passing tensors with different shapes, (3) passing Python objects instead of tensors. For (1), please define your @tf.function outside of the loop. For (2), @tf.function has experimental_relax_shapes=True option that relaxes argument shapes that can avoid unnecessary retracing. For (3), please refer to https://www.tensorflow.org/tutorials/customization/performance#python_or_tensor_args and https://www.tensorflow.org/api_docs/python/tf/function for  more details.\n"
     ]
    },
    {
     "name": "stdout",
     "output_type": "stream",
     "text": [
      "WARNING:tensorflow:11 out of the last 11 calls to <function recreate_function.<locals>.restored_function_body at 0x000001B8FC0B91F8> triggered tf.function retracing. Tracing is expensive and the excessive number of tracings could be due to (1) creating @tf.function repeatedly in a loop, (2) passing tensors with different shapes, (3) passing Python objects instead of tensors. For (1), please define your @tf.function outside of the loop. For (2), @tf.function has experimental_relax_shapes=True option that relaxes argument shapes that can avoid unnecessary retracing. For (3), please refer to https://www.tensorflow.org/tutorials/customization/performance#python_or_tensor_args and https://www.tensorflow.org/api_docs/python/tf/function for  more details.\n"
     ]
    },
    {
     "name": "stderr",
     "output_type": "stream",
     "text": [
      "WARNING:tensorflow:11 out of the last 11 calls to <function recreate_function.<locals>.restored_function_body at 0x000001B8FC0B91F8> triggered tf.function retracing. Tracing is expensive and the excessive number of tracings could be due to (1) creating @tf.function repeatedly in a loop, (2) passing tensors with different shapes, (3) passing Python objects instead of tensors. For (1), please define your @tf.function outside of the loop. For (2), @tf.function has experimental_relax_shapes=True option that relaxes argument shapes that can avoid unnecessary retracing. For (3), please refer to https://www.tensorflow.org/tutorials/customization/performance#python_or_tensor_args and https://www.tensorflow.org/api_docs/python/tf/function for  more details.\n"
     ]
    },
    {
     "name": "stdout",
     "output_type": "stream",
     "text": [
      "WARNING:tensorflow:11 out of the last 11 calls to <function recreate_function.<locals>.restored_function_body at 0x000001B8FC0B94C8> triggered tf.function retracing. Tracing is expensive and the excessive number of tracings could be due to (1) creating @tf.function repeatedly in a loop, (2) passing tensors with different shapes, (3) passing Python objects instead of tensors. For (1), please define your @tf.function outside of the loop. For (2), @tf.function has experimental_relax_shapes=True option that relaxes argument shapes that can avoid unnecessary retracing. For (3), please refer to https://www.tensorflow.org/tutorials/customization/performance#python_or_tensor_args and https://www.tensorflow.org/api_docs/python/tf/function for  more details.\n"
     ]
    },
    {
     "name": "stderr",
     "output_type": "stream",
     "text": [
      "WARNING:tensorflow:11 out of the last 11 calls to <function recreate_function.<locals>.restored_function_body at 0x000001B8FC0B94C8> triggered tf.function retracing. Tracing is expensive and the excessive number of tracings could be due to (1) creating @tf.function repeatedly in a loop, (2) passing tensors with different shapes, (3) passing Python objects instead of tensors. For (1), please define your @tf.function outside of the loop. For (2), @tf.function has experimental_relax_shapes=True option that relaxes argument shapes that can avoid unnecessary retracing. For (3), please refer to https://www.tensorflow.org/tutorials/customization/performance#python_or_tensor_args and https://www.tensorflow.org/api_docs/python/tf/function for  more details.\n"
     ]
    },
    {
     "data": {
      "text/plain": [
       "<tf.Tensor: shape=(3, 20), dtype=float32, numpy=\n",
       "array([[ 1.765786  , -3.882232  ,  3.9134233 , -1.5557289 , -3.3362343 ,\n",
       "        -1.7357955 , -1.9954445 ,  1.2989551 ,  5.081598  , -1.1041286 ,\n",
       "        -2.0503852 , -0.72675157, -0.65675956,  0.24436149, -3.7208383 ,\n",
       "         2.0954835 ,  2.2969332 , -2.0689783 , -2.9489717 , -1.1315987 ],\n",
       "       [ 1.8804485 , -2.5852382 ,  3.4066997 ,  1.0982676 , -4.056685  ,\n",
       "        -4.891284  , -2.785554  ,  1.3874227 ,  3.8476458 , -0.9256538 ,\n",
       "        -1.896706  ,  1.2113281 ,  0.11474707,  0.76209456, -4.8791065 ,\n",
       "         2.906149  ,  4.7087674 , -2.3652055 , -3.5015898 , -1.6390051 ],\n",
       "       [ 0.71152234, -0.6353217 ,  1.7385626 , -1.1168286 , -0.5451594 ,\n",
       "        -1.1808156 ,  0.09504455,  1.4653089 ,  0.66059524,  0.79308075,\n",
       "        -2.2268345 ,  0.07446612, -1.4075904 , -0.70645386, -1.907037  ,\n",
       "         1.4419787 ,  1.9551861 , -0.42660055, -2.8022065 ,  0.43727064]],\n",
       "      dtype=float32)>"
      ]
     },
     "execution_count": 32,
     "metadata": {},
     "output_type": "execute_result"
    }
   ],
   "source": [
    "embedding = \"https://tfhub.dev/google/tf2-preview/gnews-swivel-20dim/1\"\n",
    "# TF Hub에서 pre-train된 모델을 가져오기\n",
    "hub_layer = hub.KerasLayer(embedding, input_shape=[],\n",
    "                          dtype=tf.string, trainable=True)\n",
    "hub_layer(train_examples_batch[:3])"
   ]
  },
  {
   "cell_type": "code",
   "execution_count": 33,
   "id": "spectacular-facility",
   "metadata": {},
   "outputs": [],
   "source": [
    "model = tf.keras.Sequential() # 모델을 순차적으로 쌓아 올리기\n",
    "model.add(hub_layer)\n",
    "model.add(tf.keras.layers.Dense(16,activation='relu'))\n",
    "model.add(tf.keras.layers.Dense(1,activation='sigmoid'))"
   ]
  },
  {
   "cell_type": "code",
   "execution_count": 34,
   "id": "comparable-count",
   "metadata": {},
   "outputs": [
    {
     "name": "stdout",
     "output_type": "stream",
     "text": [
      "Model: \"sequential_1\"\n",
      "_________________________________________________________________\n",
      "Layer (type)                 Output Shape              Param #   \n",
      "=================================================================\n",
      "keras_layer_6 (KerasLayer)   (None, 20)                400020    \n",
      "_________________________________________________________________\n",
      "dense_2 (Dense)              (None, 16)                336       \n",
      "_________________________________________________________________\n",
      "dense_3 (Dense)              (None, 1)                 17        \n",
      "=================================================================\n",
      "Total params: 400,373\n",
      "Trainable params: 400,373\n",
      "Non-trainable params: 0\n",
      "_________________________________________________________________\n"
     ]
    }
   ],
   "source": [
    "model.summary()"
   ]
  },
  {
   "cell_type": "code",
   "execution_count": 35,
   "id": "substantial-store",
   "metadata": {},
   "outputs": [],
   "source": [
    "model.compile(optimizer='adam', loss=tf.keras.losses.BinaryCrossentropy(from_logits=True),\n",
    "             metrics=['accuracy'])\n",
    "\n",
    "# BinaryCrossentropy : 확률값 output에는 Crossentropy가 효과적\n",
    "# from_logits=True "
   ]
  },
  {
   "cell_type": "code",
   "execution_count": 36,
   "id": "yellow-filter",
   "metadata": {},
   "outputs": [
    {
     "name": "stdout",
     "output_type": "stream",
     "text": [
      "Epoch 1/50\n",
      "30/30 [==============================] - 1s 50ms/step - loss: 0.6967 - accuracy: 0.5146 - val_loss: 0.6816 - val_accuracy: 0.5252\n",
      "Epoch 2/50\n",
      "30/30 [==============================] - 1s 48ms/step - loss: 0.6775 - accuracy: 0.5548 - val_loss: 0.6659 - val_accuracy: 0.6071\n",
      "Epoch 3/50\n",
      "30/30 [==============================] - 1s 42ms/step - loss: 0.6595 - accuracy: 0.6311 - val_loss: 0.6499 - val_accuracy: 0.6512\n",
      "Epoch 4/50\n",
      "30/30 [==============================] - 1s 41ms/step - loss: 0.6433 - accuracy: 0.6870 - val_loss: 0.6372 - val_accuracy: 0.7095\n",
      "Epoch 5/50\n",
      "30/30 [==============================] - 1s 41ms/step - loss: 0.6303 - accuracy: 0.7280 - val_loss: 0.6265 - val_accuracy: 0.7381\n",
      "Epoch 6/50\n",
      "30/30 [==============================] - 1s 42ms/step - loss: 0.6184 - accuracy: 0.7603 - val_loss: 0.6170 - val_accuracy: 0.7567\n",
      "Epoch 7/50\n",
      "30/30 [==============================] - 1s 41ms/step - loss: 0.6078 - accuracy: 0.7905 - val_loss: 0.6094 - val_accuracy: 0.7673\n",
      "Epoch 8/50\n",
      "30/30 [==============================] - 1s 42ms/step - loss: 0.5986 - accuracy: 0.8083 - val_loss: 0.6025 - val_accuracy: 0.7978\n",
      "Epoch 9/50\n",
      "30/30 [==============================] - 1s 42ms/step - loss: 0.5907 - accuracy: 0.8281 - val_loss: 0.5967 - val_accuracy: 0.8070\n",
      "Epoch 10/50\n",
      "30/30 [==============================] - 1s 41ms/step - loss: 0.5835 - accuracy: 0.8452 - val_loss: 0.5921 - val_accuracy: 0.8076\n",
      "Epoch 11/50\n",
      "30/30 [==============================] - 1s 44ms/step - loss: 0.5772 - accuracy: 0.8563 - val_loss: 0.5880 - val_accuracy: 0.8264\n",
      "Epoch 12/50\n",
      "30/30 [==============================] - 1s 46ms/step - loss: 0.5717 - accuracy: 0.8684 - val_loss: 0.5845 - val_accuracy: 0.8326\n",
      "Epoch 13/50\n",
      "30/30 [==============================] - 2s 51ms/step - loss: 0.5664 - accuracy: 0.8800 - val_loss: 0.5816 - val_accuracy: 0.8383\n",
      "Epoch 14/50\n",
      "30/30 [==============================] - 2s 50ms/step - loss: 0.5620 - accuracy: 0.8903 - val_loss: 0.5794 - val_accuracy: 0.8418\n",
      "Epoch 15/50\n",
      "30/30 [==============================] - 1s 43ms/step - loss: 0.5580 - accuracy: 0.8985 - val_loss: 0.5773 - val_accuracy: 0.8470\n",
      "Epoch 16/50\n",
      "30/30 [==============================] - 1s 41ms/step - loss: 0.5543 - accuracy: 0.9054 - val_loss: 0.5753 - val_accuracy: 0.8467\n",
      "Epoch 17/50\n",
      "30/30 [==============================] - 1s 41ms/step - loss: 0.5509 - accuracy: 0.9133 - val_loss: 0.5739 - val_accuracy: 0.8538\n",
      "Epoch 18/50\n",
      "30/30 [==============================] - 1s 41ms/step - loss: 0.5477 - accuracy: 0.9205 - val_loss: 0.5727 - val_accuracy: 0.8575\n",
      "Epoch 19/50\n",
      "30/30 [==============================] - 1s 41ms/step - loss: 0.5449 - accuracy: 0.9249 - val_loss: 0.5718 - val_accuracy: 0.8592\n",
      "Epoch 20/50\n",
      "30/30 [==============================] - 1s 41ms/step - loss: 0.5424 - accuracy: 0.9299 - val_loss: 0.5709 - val_accuracy: 0.8624\n",
      "Epoch 21/50\n",
      "30/30 [==============================] - 1s 42ms/step - loss: 0.5400 - accuracy: 0.9345 - val_loss: 0.5701 - val_accuracy: 0.8643\n",
      "Epoch 22/50\n",
      "30/30 [==============================] - 1s 43ms/step - loss: 0.5378 - accuracy: 0.9387 - val_loss: 0.5698 - val_accuracy: 0.8648\n",
      "Epoch 23/50\n",
      "30/30 [==============================] - 1s 46ms/step - loss: 0.5359 - accuracy: 0.9425 - val_loss: 0.5695 - val_accuracy: 0.8660\n",
      "Epoch 24/50\n",
      "30/30 [==============================] - 1s 49ms/step - loss: 0.5339 - accuracy: 0.9451 - val_loss: 0.5684 - val_accuracy: 0.8668\n",
      "Epoch 25/50\n",
      "30/30 [==============================] - 1s 50ms/step - loss: 0.5322 - accuracy: 0.9494 - val_loss: 0.5680 - val_accuracy: 0.8657\n",
      "Epoch 26/50\n",
      "30/30 [==============================] - 1s 47ms/step - loss: 0.5305 - accuracy: 0.9523 - val_loss: 0.5686 - val_accuracy: 0.8678\n",
      "Epoch 27/50\n",
      "30/30 [==============================] - 1s 42ms/step - loss: 0.5291 - accuracy: 0.9551 - val_loss: 0.5675 - val_accuracy: 0.8668\n",
      "Epoch 28/50\n",
      "30/30 [==============================] - 1s 42ms/step - loss: 0.5277 - accuracy: 0.9579 - val_loss: 0.5677 - val_accuracy: 0.8678\n",
      "Epoch 29/50\n",
      "30/30 [==============================] - 1s 43ms/step - loss: 0.5265 - accuracy: 0.9596 - val_loss: 0.5681 - val_accuracy: 0.8693\n",
      "Epoch 30/50\n",
      "30/30 [==============================] - 1s 43ms/step - loss: 0.5255 - accuracy: 0.9613 - val_loss: 0.5669 - val_accuracy: 0.8676\n",
      "Epoch 31/50\n",
      "30/30 [==============================] - 1s 43ms/step - loss: 0.5244 - accuracy: 0.9634 - val_loss: 0.5689 - val_accuracy: 0.8702\n",
      "Epoch 32/50\n",
      "30/30 [==============================] - 1s 42ms/step - loss: 0.5234 - accuracy: 0.9645 - val_loss: 0.5676 - val_accuracy: 0.8697\n",
      "Epoch 33/50\n",
      "30/30 [==============================] - 1s 42ms/step - loss: 0.5224 - accuracy: 0.9662 - val_loss: 0.5667 - val_accuracy: 0.8689\n",
      "Epoch 34/50\n",
      "30/30 [==============================] - 1s 42ms/step - loss: 0.5217 - accuracy: 0.9670 - val_loss: 0.5667 - val_accuracy: 0.8684\n",
      "Epoch 35/50\n",
      "30/30 [==============================] - 1s 49ms/step - loss: 0.5209 - accuracy: 0.9683 - val_loss: 0.5669 - val_accuracy: 0.8690\n",
      "Epoch 36/50\n",
      "30/30 [==============================] - 2s 51ms/step - loss: 0.5203 - accuracy: 0.9691 - val_loss: 0.5677 - val_accuracy: 0.8679\n",
      "Epoch 37/50\n",
      "30/30 [==============================] - 2s 53ms/step - loss: 0.5196 - accuracy: 0.9705 - val_loss: 0.5678 - val_accuracy: 0.8679\n",
      "Epoch 38/50\n",
      "30/30 [==============================] - 1s 43ms/step - loss: 0.5190 - accuracy: 0.9713 - val_loss: 0.5668 - val_accuracy: 0.8684\n",
      "Epoch 39/50\n",
      "30/30 [==============================] - 1s 42ms/step - loss: 0.5184 - accuracy: 0.9723 - val_loss: 0.5667 - val_accuracy: 0.8680\n",
      "Epoch 40/50\n",
      "30/30 [==============================] - 1s 44ms/step - loss: 0.5180 - accuracy: 0.9733 - val_loss: 0.5667 - val_accuracy: 0.8683\n",
      "Epoch 41/50\n",
      "30/30 [==============================] - 1s 43ms/step - loss: 0.5174 - accuracy: 0.9738 - val_loss: 0.5679 - val_accuracy: 0.8672\n",
      "Epoch 42/50\n",
      "30/30 [==============================] - 1s 43ms/step - loss: 0.5170 - accuracy: 0.9743 - val_loss: 0.5670 - val_accuracy: 0.8666\n",
      "Epoch 43/50\n",
      "30/30 [==============================] - 1s 43ms/step - loss: 0.5167 - accuracy: 0.9753 - val_loss: 0.5681 - val_accuracy: 0.8667\n",
      "Epoch 44/50\n",
      "30/30 [==============================] - 1s 44ms/step - loss: 0.5163 - accuracy: 0.9757 - val_loss: 0.5670 - val_accuracy: 0.8651\n",
      "Epoch 45/50\n",
      "30/30 [==============================] - 1s 43ms/step - loss: 0.5160 - accuracy: 0.9759 - val_loss: 0.5671 - val_accuracy: 0.8654\n",
      "Epoch 46/50\n",
      "30/30 [==============================] - 1s 48ms/step - loss: 0.5157 - accuracy: 0.9761 - val_loss: 0.5679 - val_accuracy: 0.8665\n",
      "Epoch 47/50\n",
      "30/30 [==============================] - 2s 51ms/step - loss: 0.5155 - accuracy: 0.9763 - val_loss: 0.5677 - val_accuracy: 0.8661\n",
      "Epoch 48/50\n",
      "30/30 [==============================] - 2s 52ms/step - loss: 0.5153 - accuracy: 0.9765 - val_loss: 0.5673 - val_accuracy: 0.8655\n",
      "Epoch 49/50\n",
      "30/30 [==============================] - 1s 45ms/step - loss: 0.5150 - accuracy: 0.9771 - val_loss: 0.5683 - val_accuracy: 0.8665\n",
      "Epoch 50/50\n",
      "30/30 [==============================] - 1s 42ms/step - loss: 0.5148 - accuracy: 0.9775 - val_loss: 0.5683 - val_accuracy: 0.8661\n"
     ]
    }
   ],
   "source": [
    "history = model.fit(train_data.shuffle(10000).batch(512),\n",
    "                   epochs=50,\n",
    "                   validation_data=validation_data.batch(512),\n",
    "                   verbose=1)\n",
    "\n",
    "# 매 에폭마다 데이터를 섞어줌\n",
    "# verbose = 0 : 출력x\n",
    "# verbose = 1 : 진행도 막대 보여줌\n",
    "# verbose = 2 : mini-batch마다 loss출력"
   ]
  },
  {
   "cell_type": "code",
   "execution_count": 37,
   "id": "exact-application",
   "metadata": {},
   "outputs": [
    {
     "name": "stdout",
     "output_type": "stream",
     "text": [
      "49/49 - 1s - loss: 0.5721 - accuracy: 0.8579\n",
      "loss : 0.572\n",
      "accuracy : 0.858\n"
     ]
    }
   ],
   "source": [
    "results = model.evaluate(test_data.batch(512), verbose=2)\n",
    "\n",
    "for name, value in zip(model.metrics_names, results):\n",
    "    print(\"%s : %.3f\" % (name, value))"
   ]
  },
  {
   "cell_type": "code",
   "execution_count": null,
   "id": "adjustable-length",
   "metadata": {},
   "outputs": [],
   "source": []
  }
 ],
 "metadata": {
  "kernelspec": {
   "display_name": "Python 3",
   "language": "python",
   "name": "python3"
  },
  "language_info": {
   "codemirror_mode": {
    "name": "ipython",
    "version": 3
   },
   "file_extension": ".py",
   "mimetype": "text/x-python",
   "name": "python",
   "nbconvert_exporter": "python",
   "pygments_lexer": "ipython3",
   "version": "3.7.10"
  }
 },
 "nbformat": 4,
 "nbformat_minor": 5
}
