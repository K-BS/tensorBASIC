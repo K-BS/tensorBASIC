{
 "cells": [
  {
   "cell_type": "code",
   "execution_count": 46,
   "id": "industrial-colorado",
   "metadata": {},
   "outputs": [],
   "source": [
    "!pip install -q pyyaml h5py"
   ]
  },
  {
   "cell_type": "code",
   "execution_count": 47,
   "id": "complimentary-reduction",
   "metadata": {},
   "outputs": [],
   "source": [
    "import os"
   ]
  },
  {
   "cell_type": "code",
   "execution_count": 48,
   "id": "sixth-editor",
   "metadata": {},
   "outputs": [],
   "source": [
    "import tensorflow as tf\n",
    "from tensorflow import keras"
   ]
  },
  {
   "cell_type": "code",
   "execution_count": 49,
   "id": "retained-dominant",
   "metadata": {},
   "outputs": [],
   "source": [
    "(train_images, train_labels), (test_images, test_labels) = tf.keras.datasets.mnist.load_data()"
   ]
  },
  {
   "cell_type": "code",
   "execution_count": 50,
   "id": "incredible-jesus",
   "metadata": {},
   "outputs": [],
   "source": [
    "train_labels = train_labels[:1000] # 트레인셋 처음부터 1000번째꺼만\n",
    "test_labels = test_labels[:1000] # 테스트셋 처음부터 1000번째꺼만"
   ]
  },
  {
   "cell_type": "code",
   "execution_count": 51,
   "id": "british-identifier",
   "metadata": {},
   "outputs": [],
   "source": [
    "train_images = train_images[:1000].reshape(-1, 28 * 28) / 255.0\n",
    "test_images = test_images[:1000].reshape(-1, 28 * 28) / 255.0\n",
    "\n",
    "# /255.0 : 0~1의 값으로 resizing"
   ]
  },
  {
   "cell_type": "code",
   "execution_count": 52,
   "id": "derived-consortium",
   "metadata": {},
   "outputs": [],
   "source": [
    "def create_model():\n",
    "  model = tf.keras.models.Sequential([\n",
    "    keras.layers.Dense(512, activation='relu', input_shape=(784,)),\n",
    "    keras.layers.Dropout(0.2),\n",
    "    keras.layers.Dense(10)\n",
    "  ])\n",
    "\n",
    "  model.compile(optimizer='adam',\n",
    "                loss=tf.losses.SparseCategoricalCrossentropy(from_logits=True),\n",
    "                metrics=['accuracy'])\n",
    "\n",
    "  return model\n",
    "\n",
    "# 일단 2개의 layer로 구성된 모델정의\n",
    "# SpareseCategoricalCrossentropy : label이 정수일때 사용"
   ]
  },
  {
   "cell_type": "code",
   "execution_count": 53,
   "id": "banned-rubber",
   "metadata": {},
   "outputs": [],
   "source": [
    "model = create_model()"
   ]
  },
  {
   "cell_type": "code",
   "execution_count": 54,
   "id": "artistic-array",
   "metadata": {},
   "outputs": [
    {
     "name": "stdout",
     "output_type": "stream",
     "text": [
      "Model: \"sequential_8\"\n",
      "_________________________________________________________________\n",
      "Layer (type)                 Output Shape              Param #   \n",
      "=================================================================\n",
      "dense_16 (Dense)             (None, 512)               401920    \n",
      "_________________________________________________________________\n",
      "dropout_8 (Dropout)          (None, 512)               0         \n",
      "_________________________________________________________________\n",
      "dense_17 (Dense)             (None, 10)                5130      \n",
      "=================================================================\n",
      "Total params: 407,050\n",
      "Trainable params: 407,050\n",
      "Non-trainable params: 0\n",
      "_________________________________________________________________\n"
     ]
    }
   ],
   "source": [
    "model.summary()"
   ]
  },
  {
   "cell_type": "markdown",
   "id": "fewer-issue",
   "metadata": {},
   "source": [
    "**체크포인트 저장**"
   ]
  },
  {
   "cell_type": "markdown",
   "id": "specialized-heaven",
   "metadata": {},
   "source": [
    "체크포인트 콜백"
   ]
  },
  {
   "cell_type": "code",
   "execution_count": 55,
   "id": "impossible-danger",
   "metadata": {},
   "outputs": [],
   "source": [
    "checkpoint_path = \"training_1/cp.ckpt\"\n",
    "checkpoint_dir = os.path.dirname(checkpoint_path)"
   ]
  },
  {
   "cell_type": "code",
   "execution_count": 56,
   "id": "helpful-reynolds",
   "metadata": {},
   "outputs": [],
   "source": [
    "cp_callback = tf.keras.callbacks.ModelCheckpoint(filepath=checkpoint_path,\n",
    "                                                save_weights_only=True,\n",
    "                                                verbose=1)\n",
    "\n",
    "# 가중치만 저장하는 콜백을 만듦"
   ]
  },
  {
   "cell_type": "code",
   "execution_count": 57,
   "id": "polar-basin",
   "metadata": {},
   "outputs": [
    {
     "name": "stdout",
     "output_type": "stream",
     "text": [
      "Epoch 1/10\n",
      "32/32 [==============================] - 1s 7ms/step - loss: 1.5856 - accuracy: 0.5027 - val_loss: 0.7136 - val_accuracy: 0.7880\n",
      "\n",
      "Epoch 00001: saving model to training_1\\cp.ckpt\n",
      "Epoch 2/10\n",
      "32/32 [==============================] - 0s 4ms/step - loss: 0.4581 - accuracy: 0.8753 - val_loss: 0.5218 - val_accuracy: 0.8410\n",
      "\n",
      "Epoch 00002: saving model to training_1\\cp.ckpt\n",
      "Epoch 3/10\n",
      "32/32 [==============================] - 0s 4ms/step - loss: 0.3117 - accuracy: 0.9249 - val_loss: 0.4744 - val_accuracy: 0.8490\n",
      "\n",
      "Epoch 00003: saving model to training_1\\cp.ckpt\n",
      "Epoch 4/10\n",
      "32/32 [==============================] - 0s 4ms/step - loss: 0.2350 - accuracy: 0.9304 - val_loss: 0.4424 - val_accuracy: 0.8580\n",
      "\n",
      "Epoch 00004: saving model to training_1\\cp.ckpt\n",
      "Epoch 5/10\n",
      "32/32 [==============================] - 0s 4ms/step - loss: 0.1699 - accuracy: 0.9640 - val_loss: 0.4257 - val_accuracy: 0.8700\n",
      "\n",
      "Epoch 00005: saving model to training_1\\cp.ckpt\n",
      "Epoch 6/10\n",
      "32/32 [==============================] - 0s 4ms/step - loss: 0.1233 - accuracy: 0.9728 - val_loss: 0.4089 - val_accuracy: 0.8680\n",
      "\n",
      "Epoch 00006: saving model to training_1\\cp.ckpt\n",
      "Epoch 7/10\n",
      "32/32 [==============================] - 0s 3ms/step - loss: 0.0931 - accuracy: 0.9842 - val_loss: 0.4049 - val_accuracy: 0.8650\n",
      "\n",
      "Epoch 00007: saving model to training_1\\cp.ckpt\n",
      "Epoch 8/10\n",
      "32/32 [==============================] - 0s 3ms/step - loss: 0.0707 - accuracy: 0.9916 - val_loss: 0.4182 - val_accuracy: 0.8680\n",
      "\n",
      "Epoch 00008: saving model to training_1\\cp.ckpt\n",
      "Epoch 9/10\n",
      "32/32 [==============================] - 0s 3ms/step - loss: 0.0509 - accuracy: 0.9970 - val_loss: 0.4124 - val_accuracy: 0.8630\n",
      "\n",
      "Epoch 00009: saving model to training_1\\cp.ckpt\n",
      "Epoch 10/10\n",
      "32/32 [==============================] - 0s 4ms/step - loss: 0.0369 - accuracy: 0.9986 - val_loss: 0.4155 - val_accuracy: 0.8660\n",
      "\n",
      "Epoch 00010: saving model to training_1\\cp.ckpt\n"
     ]
    },
    {
     "data": {
      "text/plain": [
       "<tensorflow.python.keras.callbacks.History at 0x24b86df48b0>"
      ]
     },
     "execution_count": 57,
     "metadata": {},
     "output_type": "execute_result"
    }
   ],
   "source": [
    "model.fit(train_images,\n",
    "         train_labels,\n",
    "         epochs=10,\n",
    "         validation_data=(test_images,test_labels),\n",
    "         callbacks=[cp_callback])"
   ]
  },
  {
   "cell_type": "code",
   "execution_count": 58,
   "id": "australian-beatles",
   "metadata": {},
   "outputs": [
    {
     "name": "stdout",
     "output_type": "stream",
     "text": [
      " C 드라이브의 볼륨에는 이름이 없습니다.\n",
      " 볼륨 일련 번호: B4F6-6A43\n",
      "\n",
      " C:\\Users\\kbs77\\tensor\\training_1 디렉터리\n",
      "\n",
      "2021-03-13  오전 11:44    <DIR>          .\n",
      "2021-03-13  오전 11:44    <DIR>          ..\n",
      "2021-03-13  오전 11:44                71 checkpoint\n",
      "2021-03-13  오전 11:44         4,886,697 cp.ckpt.data-00000-of-00001\n",
      "2021-03-13  오전 11:44             1,222 cp.ckpt.index\n",
      "               3개 파일           4,887,990 바이트\n",
      "               2개 디렉터리  21,596,774,400 바이트 남음\n"
     ]
    }
   ],
   "source": [
    "ls{checkpoint_dir}"
   ]
  },
  {
   "cell_type": "code",
   "execution_count": 59,
   "id": "limiting-gabriel",
   "metadata": {},
   "outputs": [
    {
     "name": "stdout",
     "output_type": "stream",
     "text": [
      "32/32 - 0s - loss: 2.4557 - accuracy: 0.0710\n",
      "0.07100000232458115\n"
     ]
    }
   ],
   "source": [
    "model = create_model()\n",
    "loss, acc = model.evaluate(test_images, test_labels, verbose=2)\n",
    "print(acc) # accuracy 출력했더니 형편없음"
   ]
  },
  {
   "cell_type": "code",
   "execution_count": 60,
   "id": "hispanic-reception",
   "metadata": {},
   "outputs": [
    {
     "name": "stdout",
     "output_type": "stream",
     "text": [
      "32/32 - 0s - loss: 0.4155 - accuracy: 0.8660\n",
      "0.8659999966621399\n"
     ]
    }
   ],
   "source": [
    "model.load_weights(checkpoint_path)\n",
    "loss, acc = model.evaluate(test_images, test_labels, verbose=2)\n",
    "print(acc) # 가중치 로드하니까 괜찮음"
   ]
  },
  {
   "cell_type": "markdown",
   "id": "upset-benjamin",
   "metadata": {},
   "source": [
    "콜백 매개변수"
   ]
  },
  {
   "cell_type": "code",
   "execution_count": 61,
   "id": "hindu-disclaimer",
   "metadata": {},
   "outputs": [],
   "source": [
    "checkpoint_path = \"training_2/cp-{epoch:04d}.ckpt\"\n",
    "checkpoint_dir = os.path.dirname(checkpoint_path)\n",
    "\n",
    "# 파일이름에 에포크 번호 매김"
   ]
  },
  {
   "cell_type": "code",
   "execution_count": 62,
   "id": "empirical-czech",
   "metadata": {},
   "outputs": [
    {
     "name": "stdout",
     "output_type": "stream",
     "text": [
      "WARNING:tensorflow:`period` argument is deprecated. Please use `save_freq` to specify the frequency in number of batches seen.\n"
     ]
    }
   ],
   "source": [
    "cp_callback = tf.keras.callbacks.ModelCheckpoint(\n",
    "    filepath=checkpoint_path, \n",
    "    verbose=1, \n",
    "    save_weights_only=True,\n",
    "    period=3) # 3번째 에폭마다 가중치 저장"
   ]
  },
  {
   "cell_type": "code",
   "execution_count": 63,
   "id": "focal-premiere",
   "metadata": {},
   "outputs": [],
   "source": [
    "model = create_model()"
   ]
  },
  {
   "cell_type": "code",
   "execution_count": 64,
   "id": "broke-granny",
   "metadata": {},
   "outputs": [],
   "source": [
    "model.save_weights(checkpoint_path.format(epoch=0))"
   ]
  },
  {
   "cell_type": "code",
   "execution_count": 65,
   "id": "pregnant-killer",
   "metadata": {},
   "outputs": [
    {
     "name": "stdout",
     "output_type": "stream",
     "text": [
      "\n",
      "Epoch 00003: saving model to training_2\\cp-0003.ckpt\n",
      "\n",
      "Epoch 00006: saving model to training_2\\cp-0006.ckpt\n",
      "\n",
      "Epoch 00009: saving model to training_2\\cp-0009.ckpt\n",
      "\n",
      "Epoch 00012: saving model to training_2\\cp-0012.ckpt\n",
      "\n",
      "Epoch 00015: saving model to training_2\\cp-0015.ckpt\n",
      "\n",
      "Epoch 00018: saving model to training_2\\cp-0018.ckpt\n",
      "\n",
      "Epoch 00021: saving model to training_2\\cp-0021.ckpt\n",
      "\n",
      "Epoch 00024: saving model to training_2\\cp-0024.ckpt\n",
      "\n",
      "Epoch 00027: saving model to training_2\\cp-0027.ckpt\n",
      "\n",
      "Epoch 00030: saving model to training_2\\cp-0030.ckpt\n",
      "\n",
      "Epoch 00033: saving model to training_2\\cp-0033.ckpt\n",
      "\n",
      "Epoch 00036: saving model to training_2\\cp-0036.ckpt\n",
      "\n",
      "Epoch 00039: saving model to training_2\\cp-0039.ckpt\n",
      "\n",
      "Epoch 00042: saving model to training_2\\cp-0042.ckpt\n",
      "\n",
      "Epoch 00045: saving model to training_2\\cp-0045.ckpt\n",
      "\n",
      "Epoch 00048: saving model to training_2\\cp-0048.ckpt\n"
     ]
    },
    {
     "data": {
      "text/plain": [
       "<tensorflow.python.keras.callbacks.History at 0x24b84448a60>"
      ]
     },
     "execution_count": 65,
     "metadata": {},
     "output_type": "execute_result"
    }
   ],
   "source": [
    "model.fit(train_images,\n",
    "         train_labels,\n",
    "         epochs=50,\n",
    "         callbacks=[cp_callback],\n",
    "         validation_data=(test_images, test_labels),\n",
    "         verbose=0)\n",
    "\n",
    "# 새로운 콜백으로 훈련"
   ]
  },
  {
   "cell_type": "code",
   "execution_count": 66,
   "id": "classified-ownership",
   "metadata": {},
   "outputs": [
    {
     "name": "stdout",
     "output_type": "stream",
     "text": [
      " C 드라이브의 볼륨에는 이름이 없습니다.\n",
      " 볼륨 일련 번호: B4F6-6A43\n",
      "\n",
      " C:\\Users\\kbs77\\tensor\\training_2 디렉터리\n",
      "\n",
      "2021-03-13  오전 11:44    <DIR>          .\n",
      "2021-03-13  오전 11:44    <DIR>          ..\n",
      "2021-03-13  오전 11:44                81 checkpoint\n",
      "2021-03-13  오전 11:44         1,628,730 cp-0000.ckpt.data-00000-of-00001\n",
      "2021-03-13  오전 11:44               402 cp-0000.ckpt.index\n",
      "2021-03-13  오전 11:44         4,886,697 cp-0003.ckpt.data-00000-of-00001\n",
      "2021-03-13  오전 11:44             1,222 cp-0003.ckpt.index\n",
      "2021-03-13  오전 11:44         4,886,697 cp-0006.ckpt.data-00000-of-00001\n",
      "2021-03-13  오전 11:44             1,222 cp-0006.ckpt.index\n",
      "2021-03-13  오전 11:44         4,886,697 cp-0009.ckpt.data-00000-of-00001\n",
      "2021-03-13  오전 11:44             1,222 cp-0009.ckpt.index\n",
      "2021-03-13  오전 11:44         4,886,697 cp-0012.ckpt.data-00000-of-00001\n",
      "2021-03-13  오전 11:44             1,222 cp-0012.ckpt.index\n",
      "2021-03-13  오전 11:44         4,886,697 cp-0015.ckpt.data-00000-of-00001\n",
      "2021-03-13  오전 11:44             1,222 cp-0015.ckpt.index\n",
      "2021-03-13  오전 11:44         4,886,697 cp-0018.ckpt.data-00000-of-00001\n",
      "2021-03-13  오전 11:44             1,222 cp-0018.ckpt.index\n",
      "2021-03-13  오전 11:44         4,886,697 cp-0021.ckpt.data-00000-of-00001\n",
      "2021-03-13  오전 11:44             1,222 cp-0021.ckpt.index\n",
      "2021-03-13  오전 11:44         4,886,697 cp-0024.ckpt.data-00000-of-00001\n",
      "2021-03-13  오전 11:44             1,222 cp-0024.ckpt.index\n",
      "2021-03-13  오전 11:44         4,886,697 cp-0027.ckpt.data-00000-of-00001\n",
      "2021-03-13  오전 11:44             1,222 cp-0027.ckpt.index\n",
      "2021-03-13  오전 11:44         4,886,697 cp-0030.ckpt.data-00000-of-00001\n",
      "2021-03-13  오전 11:44             1,222 cp-0030.ckpt.index\n",
      "2021-03-13  오전 11:44         4,886,697 cp-0033.ckpt.data-00000-of-00001\n",
      "2021-03-13  오전 11:44             1,222 cp-0033.ckpt.index\n",
      "2021-03-13  오전 11:44         4,886,697 cp-0036.ckpt.data-00000-of-00001\n",
      "2021-03-13  오전 11:44             1,222 cp-0036.ckpt.index\n",
      "2021-03-13  오전 11:44         4,886,697 cp-0039.ckpt.data-00000-of-00001\n",
      "2021-03-13  오전 11:44             1,222 cp-0039.ckpt.index\n",
      "2021-03-13  오전 11:44         4,886,697 cp-0042.ckpt.data-00000-of-00001\n",
      "2021-03-13  오전 11:44             1,222 cp-0042.ckpt.index\n",
      "2021-03-13  오전 11:44         4,886,697 cp-0045.ckpt.data-00000-of-00001\n",
      "2021-03-13  오전 11:44             1,222 cp-0045.ckpt.index\n",
      "2021-03-13  오전 11:44         4,886,697 cp-0048.ckpt.data-00000-of-00001\n",
      "2021-03-13  오전 11:44             1,222 cp-0048.ckpt.index\n",
      "              35개 파일          79,835,917 바이트\n",
      "               2개 디렉터리  21,591,400,448 바이트 남음\n"
     ]
    }
   ],
   "source": [
    "ls{checkpoint_dir}"
   ]
  },
  {
   "cell_type": "code",
   "execution_count": 67,
   "id": "alive-allergy",
   "metadata": {},
   "outputs": [
    {
     "data": {
      "text/plain": [
       "'training_2\\\\cp-0048.ckpt'"
      ]
     },
     "execution_count": 67,
     "metadata": {},
     "output_type": "execute_result"
    }
   ],
   "source": [
    "latest = tf.train.latest_checkpoint(checkpoint_dir)\n",
    "latest\n",
    "\n",
    "# 마지막 체크포인트 선택 아래에서 쓸거"
   ]
  },
  {
   "cell_type": "code",
   "execution_count": 68,
   "id": "stainless-contents",
   "metadata": {},
   "outputs": [
    {
     "name": "stdout",
     "output_type": "stream",
     "text": [
      "32/32 - 0s - loss: 0.4892 - accuracy: 0.8730\n",
      "0.8730000257492065\n"
     ]
    }
   ],
   "source": [
    "model = create_model()\n",
    "model.load_weights(latest) # 마지막 체크포인트에서 불러옴\n",
    "loss, acc = model.evaluate(test_images,  test_labels, verbose=2)\n",
    "print(acc)"
   ]
  },
  {
   "cell_type": "markdown",
   "id": "pressing-medicaid",
   "metadata": {},
   "source": [
    "**수동으로 가중치 저장**"
   ]
  },
  {
   "cell_type": "code",
   "execution_count": 69,
   "id": "reflected-scholarship",
   "metadata": {},
   "outputs": [],
   "source": [
    "model.save_weights('./checkpoints/my_checkpoint')"
   ]
  },
  {
   "cell_type": "code",
   "execution_count": 70,
   "id": "southeast-young",
   "metadata": {},
   "outputs": [],
   "source": [
    "model = create_model()"
   ]
  },
  {
   "cell_type": "code",
   "execution_count": 71,
   "id": "renewable-weekend",
   "metadata": {},
   "outputs": [
    {
     "data": {
      "text/plain": [
       "<tensorflow.python.training.tracking.util.CheckpointLoadStatus at 0x24b865753a0>"
      ]
     },
     "execution_count": 71,
     "metadata": {},
     "output_type": "execute_result"
    }
   ],
   "source": [
    "model.load_weights('./checkpoints/my_checkpoint')"
   ]
  },
  {
   "cell_type": "code",
   "execution_count": 72,
   "id": "fancy-opinion",
   "metadata": {},
   "outputs": [
    {
     "name": "stdout",
     "output_type": "stream",
     "text": [
      "32/32 - 0s - loss: 0.4892 - accuracy: 0.8730\n"
     ]
    }
   ],
   "source": [
    "loss,acc = model.evaluate(test_images,  test_labels, verbose=2)"
   ]
  },
  {
   "cell_type": "markdown",
   "id": "distinct-enzyme",
   "metadata": {},
   "source": [
    "**전체 모델 저장**"
   ]
  },
  {
   "cell_type": "code",
   "execution_count": 73,
   "id": "controlled-priority",
   "metadata": {},
   "outputs": [
    {
     "name": "stdout",
     "output_type": "stream",
     "text": [
      "Epoch 1/5\n",
      "32/32 [==============================] - 0s 2ms/step - loss: 1.6015 - accuracy: 0.5258\n",
      "Epoch 2/5\n",
      "32/32 [==============================] - 0s 2ms/step - loss: 0.4519 - accuracy: 0.8770\n",
      "Epoch 3/5\n",
      "32/32 [==============================] - 0s 2ms/step - loss: 0.2959 - accuracy: 0.9019\n",
      "Epoch 4/5\n",
      "32/32 [==============================] - 0s 2ms/step - loss: 0.2223 - accuracy: 0.9423\n",
      "Epoch 5/5\n",
      "32/32 [==============================] - 0s 2ms/step - loss: 0.1753 - accuracy: 0.9550\n"
     ]
    },
    {
     "data": {
      "text/plain": [
       "<tensorflow.python.keras.callbacks.History at 0x24b83f24490>"
      ]
     },
     "execution_count": 73,
     "metadata": {},
     "output_type": "execute_result"
    }
   ],
   "source": [
    "model = create_model()\n",
    "model.fit(train_images, train_labels, epochs=5)"
   ]
  },
  {
   "cell_type": "code",
   "execution_count": 74,
   "id": "relevant-closure",
   "metadata": {},
   "outputs": [
    {
     "name": "stdout",
     "output_type": "stream",
     "text": [
      "WARNING:tensorflow:Unresolved object in checkpoint: (root).optimizer.iter\n",
      "WARNING:tensorflow:Unresolved object in checkpoint: (root).optimizer.beta_1\n",
      "WARNING:tensorflow:Unresolved object in checkpoint: (root).optimizer.beta_2\n",
      "WARNING:tensorflow:Unresolved object in checkpoint: (root).optimizer.decay\n",
      "WARNING:tensorflow:Unresolved object in checkpoint: (root).optimizer.learning_rate\n",
      "WARNING:tensorflow:A checkpoint was restored (e.g. tf.train.Checkpoint.restore or tf.keras.Model.load_weights) but not all checkpointed values were used. See above for specific issues. Use expect_partial() on the load status object, e.g. tf.train.Checkpoint.restore(...).expect_partial(), to silence these warnings, or use assert_consumed() to make the check explicit. See https://www.tensorflow.org/guide/checkpoint#loading_mechanics for details.\n",
      "WARNING:tensorflow:Unresolved object in checkpoint: (root).optimizer.iter\n",
      "WARNING:tensorflow:Unresolved object in checkpoint: (root).optimizer.beta_1\n",
      "WARNING:tensorflow:Unresolved object in checkpoint: (root).optimizer.beta_2\n",
      "WARNING:tensorflow:Unresolved object in checkpoint: (root).optimizer.decay\n",
      "WARNING:tensorflow:Unresolved object in checkpoint: (root).optimizer.learning_rate\n",
      "WARNING:tensorflow:A checkpoint was restored (e.g. tf.train.Checkpoint.restore or tf.keras.Model.load_weights) but not all checkpointed values were used. See above for specific issues. Use expect_partial() on the load status object, e.g. tf.train.Checkpoint.restore(...).expect_partial(), to silence these warnings, or use assert_consumed() to make the check explicit. See https://www.tensorflow.org/guide/checkpoint#loading_mechanics for details.\n"
     ]
    },
    {
     "name": "stderr",
     "output_type": "stream",
     "text": [
      "하위 디렉터리 또는 파일 -p이(가) 이미 있습니다.\n",
      "다음 내용 진행 중 오류 발생: -p.\n",
      "하위 디렉터리 또는 파일 saved_model이(가) 이미 있습니다.\n",
      "다음 내용 진행 중 오류 발생: saved_model.\n"
     ]
    },
    {
     "name": "stdout",
     "output_type": "stream",
     "text": [
      "INFO:tensorflow:Assets written to: saved_model/my_model\\assets\n"
     ]
    }
   ],
   "source": [
    "!mkdir -p saved_model\n",
    "model.save('saved_model/my_model')\n",
    "\n",
    "#전체 모델을 저장?"
   ]
  },
  {
   "cell_type": "code",
   "execution_count": 75,
   "id": "negative-destruction",
   "metadata": {},
   "outputs": [
    {
     "ename": "SyntaxError",
     "evalue": "invalid syntax (<ipython-input-75-01f0a46f1ff7>, line 1)",
     "output_type": "error",
     "traceback": [
      "\u001b[1;36m  File \u001b[1;32m\"<ipython-input-75-01f0a46f1ff7>\"\u001b[1;36m, line \u001b[1;32m1\u001b[0m\n\u001b[1;33m    ls saved_model\u001b[0m\n\u001b[1;37m       ^\u001b[0m\n\u001b[1;31mSyntaxError\u001b[0m\u001b[1;31m:\u001b[0m invalid syntax\n"
     ]
    }
   ],
   "source": [
    "ls saved_model\n",
    "# 위에서 생성한 모델 3개 다 들어가 있음"
   ]
  },
  {
   "cell_type": "code",
   "execution_count": 76,
   "id": "informative-focus",
   "metadata": {},
   "outputs": [
    {
     "name": "stderr",
     "output_type": "stream",
     "text": [
      "스위치가 틀립니다 - \"my_model\".\n"
     ]
    }
   ],
   "source": [
    "ls saved_model/my_model"
   ]
  },
  {
   "cell_type": "code",
   "execution_count": 77,
   "id": "refined-allergy",
   "metadata": {},
   "outputs": [
    {
     "name": "stdout",
     "output_type": "stream",
     "text": [
      "Model: \"sequential_13\"\n",
      "_________________________________________________________________\n",
      "Layer (type)                 Output Shape              Param #   \n",
      "=================================================================\n",
      "dense_26 (Dense)             (None, 512)               401920    \n",
      "_________________________________________________________________\n",
      "dropout_13 (Dropout)         (None, 512)               0         \n",
      "_________________________________________________________________\n",
      "dense_27 (Dense)             (None, 10)                5130      \n",
      "=================================================================\n",
      "Total params: 407,050\n",
      "Trainable params: 407,050\n",
      "Non-trainable params: 0\n",
      "_________________________________________________________________\n"
     ]
    }
   ],
   "source": [
    "new_model = tf.keras.models.load_model('saved_model/my_model')\n",
    "\n",
    "new_model.summary()\n",
    "\n",
    "# 모델 가져옴"
   ]
  },
  {
   "cell_type": "code",
   "execution_count": 78,
   "id": "removed-storm",
   "metadata": {},
   "outputs": [
    {
     "name": "stdout",
     "output_type": "stream",
     "text": [
      "32/32 - 0s - loss: 0.4288 - accuracy: 0.8510\n",
      "(1000, 10)\n"
     ]
    }
   ],
   "source": [
    "loss, acc = new_model.evaluate(test_images,  test_labels, verbose=2)\n",
    "print(new_model.predict(test_images).shape)"
   ]
  },
  {
   "cell_type": "markdown",
   "id": "spread-designation",
   "metadata": {},
   "source": [
    "**HDF5 파일로 저장**"
   ]
  },
  {
   "cell_type": "code",
   "execution_count": 79,
   "id": "crucial-jerusalem",
   "metadata": {},
   "outputs": [
    {
     "name": "stdout",
     "output_type": "stream",
     "text": [
      "Epoch 1/5\n",
      "32/32 [==============================] - 0s 2ms/step - loss: 1.6150 - accuracy: 0.5040\n",
      "Epoch 2/5\n",
      "32/32 [==============================] - 0s 2ms/step - loss: 0.4521 - accuracy: 0.8593\n",
      "Epoch 3/5\n",
      "32/32 [==============================] - 0s 2ms/step - loss: 0.2825 - accuracy: 0.9346\n",
      "Epoch 4/5\n",
      "32/32 [==============================] - 0s 2ms/step - loss: 0.1923 - accuracy: 0.9670\n",
      "Epoch 5/5\n",
      "32/32 [==============================] - 0s 2ms/step - loss: 0.1601 - accuracy: 0.9632\n"
     ]
    }
   ],
   "source": [
    "model = create_model()\n",
    "model.fit(train_images, train_labels, epochs=5)\n",
    "model.save('my_model.h5') # 전체 모델을 HDF5 파일로 저장"
   ]
  },
  {
   "cell_type": "code",
   "execution_count": 80,
   "id": "greek-tampa",
   "metadata": {},
   "outputs": [
    {
     "name": "stdout",
     "output_type": "stream",
     "text": [
      "Model: \"sequential_14\"\n",
      "_________________________________________________________________\n",
      "Layer (type)                 Output Shape              Param #   \n",
      "=================================================================\n",
      "dense_28 (Dense)             (None, 512)               401920    \n",
      "_________________________________________________________________\n",
      "dropout_14 (Dropout)         (None, 512)               0         \n",
      "_________________________________________________________________\n",
      "dense_29 (Dense)             (None, 10)                5130      \n",
      "=================================================================\n",
      "Total params: 407,050\n",
      "Trainable params: 407,050\n",
      "Non-trainable params: 0\n",
      "_________________________________________________________________\n"
     ]
    }
   ],
   "source": [
    "new_model = tf.keras.models.load_model('my_model.h5')\n",
    "new_model.summary() # 저장된 h5 파일 가져와서 보기"
   ]
  },
  {
   "cell_type": "code",
   "execution_count": 81,
   "id": "combined-agriculture",
   "metadata": {},
   "outputs": [
    {
     "name": "stdout",
     "output_type": "stream",
     "text": [
      "32/32 - 0s - loss: 0.4382 - accuracy: 0.8560\n"
     ]
    }
   ],
   "source": [
    "loss, acc = new_model.evaluate(test_images,  test_labels, verbose=2)"
   ]
  }
 ],
 "metadata": {
  "kernelspec": {
   "display_name": "Python 3",
   "language": "python",
   "name": "python3"
  },
  "language_info": {
   "codemirror_mode": {
    "name": "ipython",
    "version": 3
   },
   "file_extension": ".py",
   "mimetype": "text/x-python",
   "name": "python",
   "nbconvert_exporter": "python",
   "pygments_lexer": "ipython3",
   "version": "3.8.8"
  }
 },
 "nbformat": 4,
 "nbformat_minor": 5
}
