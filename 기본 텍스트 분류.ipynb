{
 "cells": [
  {
   "cell_type": "code",
   "execution_count": 2,
   "id": "located-bunch",
   "metadata": {},
   "outputs": [
    {
     "name": "stdout",
     "output_type": "stream",
     "text": [
      "2.3.0\n"
     ]
    }
   ],
   "source": [
    "import tensorflow as tf\n",
    "from tensorflow import keras\n",
    "\n",
    "import numpy as np\n",
    "\n",
    "print(tf.__version__)"
   ]
  },
  {
   "cell_type": "code",
   "execution_count": 3,
   "id": "driving-chuck",
   "metadata": {},
   "outputs": [
    {
     "name": "stderr",
     "output_type": "stream",
     "text": [
      "<string>:6: VisibleDeprecationWarning: Creating an ndarray from ragged nested sequences (which is a list-or-tuple of lists-or-tuples-or ndarrays with different lengths or shapes) is deprecated. If you meant to do this, you must specify 'dtype=object' when creating the ndarray\n",
      "C:\\Users\\kbs77\\anaconda3\\envs\\tensorf\\lib\\site-packages\\tensorflow\\python\\keras\\datasets\\imdb.py:159: VisibleDeprecationWarning: Creating an ndarray from ragged nested sequences (which is a list-or-tuple of lists-or-tuples-or ndarrays with different lengths or shapes) is deprecated. If you meant to do this, you must specify 'dtype=object' when creating the ndarray\n",
      "  x_train, y_train = np.array(xs[:idx]), np.array(labels[:idx])\n",
      "C:\\Users\\kbs77\\anaconda3\\envs\\tensorf\\lib\\site-packages\\tensorflow\\python\\keras\\datasets\\imdb.py:160: VisibleDeprecationWarning: Creating an ndarray from ragged nested sequences (which is a list-or-tuple of lists-or-tuples-or ndarrays with different lengths or shapes) is deprecated. If you meant to do this, you must specify 'dtype=object' when creating the ndarray\n",
      "  x_test, y_test = np.array(xs[idx:]), np.array(labels[idx:])\n"
     ]
    }
   ],
   "source": [
    "imdb = keras.datasets.imdb\n",
    "\n",
    "(train_data, train_labels), (test_data, test_labels) = imdb.load_data(num_words=10000)"
   ]
  },
  {
   "cell_type": "code",
   "execution_count": 4,
   "id": "refined-motel",
   "metadata": {},
   "outputs": [
    {
     "name": "stdout",
     "output_type": "stream",
     "text": [
      "훈련 샘플: 25000, 레이블: 25000\n"
     ]
    }
   ],
   "source": [
    "print(\"훈련 샘플: {}, 레이블: {}\".format(len(train_data), len(train_labels)))\n",
    "\n",
    "# 부정0, 긍정1로 이미 전처리 됌"
   ]
  },
  {
   "cell_type": "code",
   "execution_count": 5,
   "id": "mineral-cornell",
   "metadata": {},
   "outputs": [
    {
     "name": "stdout",
     "output_type": "stream",
     "text": [
      "[1, 14, 22, 16, 43, 530, 973, 1622, 1385, 65, 458, 4468, 66, 3941, 4, 173, 36, 256, 5, 25, 100, 43, 838, 112, 50, 670, 2, 9, 35, 480, 284, 5, 150, 4, 172, 112, 167, 2, 336, 385, 39, 4, 172, 4536, 1111, 17, 546, 38, 13, 447, 4, 192, 50, 16, 6, 147, 2025, 19, 14, 22, 4, 1920, 4613, 469, 4, 22, 71, 87, 12, 16, 43, 530, 38, 76, 15, 13, 1247, 4, 22, 17, 515, 17, 12, 16, 626, 18, 2, 5, 62, 386, 12, 8, 316, 8, 106, 5, 4, 2223, 5244, 16, 480, 66, 3785, 33, 4, 130, 12, 16, 38, 619, 5, 25, 124, 51, 36, 135, 48, 25, 1415, 33, 6, 22, 12, 215, 28, 77, 52, 5, 14, 407, 16, 82, 2, 8, 4, 107, 117, 5952, 15, 256, 4, 2, 7, 3766, 5, 723, 36, 71, 43, 530, 476, 26, 400, 317, 46, 7, 4, 2, 1029, 13, 104, 88, 4, 381, 15, 297, 98, 32, 2071, 56, 26, 141, 6, 194, 7486, 18, 4, 226, 22, 21, 134, 476, 26, 480, 5, 144, 30, 5535, 18, 51, 36, 28, 224, 92, 25, 104, 4, 226, 65, 16, 38, 1334, 88, 12, 16, 283, 5, 16, 4472, 113, 103, 32, 15, 16, 5345, 19, 178, 32]\n"
     ]
    }
   ],
   "source": [
    "print(train_data[0])\n",
    "# 추가적인 딕셔너리에 각 숫자, 단어가 매칭되어 있기 때문"
   ]
  },
  {
   "cell_type": "code",
   "execution_count": 6,
   "id": "understood-section",
   "metadata": {},
   "outputs": [
    {
     "data": {
      "text/plain": [
       "(218, 189)"
      ]
     },
     "execution_count": 6,
     "metadata": {},
     "output_type": "execute_result"
    }
   ],
   "source": [
    "len(train_data[0]), len(train_data[1]) # 리뷰들의 길이가 다르다.\n",
    "# ML모델에 넣을때 인풋의 길이는 모두 같아야 함"
   ]
  },
  {
   "cell_type": "code",
   "execution_count": 7,
   "id": "lovely-calcium",
   "metadata": {},
   "outputs": [],
   "source": [
    "# 단어와 정수 인덱스를 매핑한 딕셔너리\n",
    "word_index = imdb.get_word_index() # 숫자 -> 단어\n",
    "\n",
    "# 처음 몇 개 인덱스는 사전에 정의되어 있습니다\n",
    "word_index = {k:(v+3) for k,v in word_index.items()}\n",
    "word_index[\"<PAD>\"] = 0\n",
    "word_index[\"<START>\"] = 1\n",
    "word_index[\"<UNK>\"] = 2  # unknown\n",
    "word_index[\"<UNUSED>\"] = 3\n",
    "\n",
    "reverse_word_index = dict([(value, key) for (key, value) in word_index.items()])\n",
    "# reverse_word_index 딕셔너리 구성 : 숫자는 key, 단어는 value\n",
    "\n",
    "def decode_review(text):\n",
    "    return ' '.join([reverse_word_index.get(i, '?') for i in text])"
   ]
  },
  {
   "cell_type": "code",
   "execution_count": 8,
   "id": "closing-wallpaper",
   "metadata": {},
   "outputs": [
    {
     "data": {
      "text/plain": [
       "\"<START> this film was just brilliant casting location scenery story direction everyone's really suited the part they played and you could just imagine being there robert <UNK> is an amazing actor and now the same being director <UNK> father came from the same scottish island as myself so i loved the fact there was a real connection with this film the witty remarks throughout the film were great it was just brilliant so much that i bought the film as soon as it was released for <UNK> and would recommend it to everyone to watch and the fly fishing was amazing really cried at the end it was so sad and you know what they say if you cry at a film it must have been good and this definitely was also <UNK> to the two little boy's that played the <UNK> of norman and paul they were just brilliant children are often left out of the <UNK> list i think because the stars that play them all grown up are such a big profile for the whole film but these children are amazing and should be praised for what they have done don't you think the whole story was so lovely because it was true and was someone's life after all that was shared with us all\""
      ]
     },
     "execution_count": 8,
     "metadata": {},
     "output_type": "execute_result"
    }
   ],
   "source": [
    "decode_review(train_data[0]) # 입력데이터가 문자로 잘 바꼈나?"
   ]
  },
  {
   "cell_type": "code",
   "execution_count": 9,
   "id": "conceptual-voluntary",
   "metadata": {},
   "outputs": [],
   "source": [
    "train_data = keras.preprocessing.sequence.pad_sequences(train_data,\n",
    "                                                        value=word_index[\"<PAD>\"],\n",
    "                                                        padding='post',\n",
    "                                                        maxlen=256)\n",
    "\n",
    "# \n",
    "\n",
    "test_data = keras.preprocessing.sequence.pad_sequences(test_data,\n",
    "                                                       value=word_index[\"<PAD>\"],\n",
    "                                                       padding='post',\n",
    "                                                       maxlen=256)"
   ]
  },
  {
   "cell_type": "code",
   "execution_count": 10,
   "id": "inside-steps",
   "metadata": {},
   "outputs": [
    {
     "data": {
      "text/plain": [
       "(256, 256)"
      ]
     },
     "execution_count": 10,
     "metadata": {},
     "output_type": "execute_result"
    }
   ],
   "source": [
    "len(train_data[0]), len(train_data[1])"
   ]
  },
  {
   "cell_type": "code",
   "execution_count": 11,
   "id": "accomplished-arnold",
   "metadata": {},
   "outputs": [
    {
     "name": "stdout",
     "output_type": "stream",
     "text": [
      "[   1   14   22   16   43  530  973 1622 1385   65  458 4468   66 3941\n",
      "    4  173   36  256    5   25  100   43  838  112   50  670    2    9\n",
      "   35  480  284    5  150    4  172  112  167    2  336  385   39    4\n",
      "  172 4536 1111   17  546   38   13  447    4  192   50   16    6  147\n",
      " 2025   19   14   22    4 1920 4613  469    4   22   71   87   12   16\n",
      "   43  530   38   76   15   13 1247    4   22   17  515   17   12   16\n",
      "  626   18    2    5   62  386   12    8  316    8  106    5    4 2223\n",
      " 5244   16  480   66 3785   33    4  130   12   16   38  619    5   25\n",
      "  124   51   36  135   48   25 1415   33    6   22   12  215   28   77\n",
      "   52    5   14  407   16   82    2    8    4  107  117 5952   15  256\n",
      "    4    2    7 3766    5  723   36   71   43  530  476   26  400  317\n",
      "   46    7    4    2 1029   13  104   88    4  381   15  297   98   32\n",
      " 2071   56   26  141    6  194 7486   18    4  226   22   21  134  476\n",
      "   26  480    5  144   30 5535   18   51   36   28  224   92   25  104\n",
      "    4  226   65   16   38 1334   88   12   16  283    5   16 4472  113\n",
      "  103   32   15   16 5345   19  178   32    0    0    0    0    0    0\n",
      "    0    0    0    0    0    0    0    0    0    0    0    0    0    0\n",
      "    0    0    0    0    0    0    0    0    0    0    0    0    0    0\n",
      "    0    0    0    0]\n"
     ]
    }
   ],
   "source": [
    "print(train_data[0])"
   ]
  },
  {
   "cell_type": "code",
   "execution_count": 12,
   "id": "industrial-advocate",
   "metadata": {},
   "outputs": [
    {
     "name": "stdout",
     "output_type": "stream",
     "text": [
      "Model: \"sequential\"\n",
      "_________________________________________________________________\n",
      "Layer (type)                 Output Shape              Param #   \n",
      "=================================================================\n",
      "embedding (Embedding)        (None, None, 16)          160000    \n",
      "_________________________________________________________________\n",
      "global_average_pooling1d (Gl (None, 16)                0         \n",
      "_________________________________________________________________\n",
      "dense (Dense)                (None, 16)                272       \n",
      "_________________________________________________________________\n",
      "dense_1 (Dense)              (None, 1)                 17        \n",
      "=================================================================\n",
      "Total params: 160,289\n",
      "Trainable params: 160,289\n",
      "Non-trainable params: 0\n",
      "_________________________________________________________________\n"
     ]
    }
   ],
   "source": [
    "vocab_size = 10000\n",
    "\n",
    "model = keras.Sequential()\n",
    "model.add(keras.layers.Embedding(vocab_size, 16, input_shape=(None,)))\n",
    "model.add(keras.layers.GlobalAveragePooling1D())\n",
    "model.add(keras.layers.Dense(16, activation='relu'))\n",
    "model.add(keras.layers.Dense(1, activation='sigmoid'))\n",
    "\n",
    "model.summary()"
   ]
  },
  {
   "cell_type": "code",
   "execution_count": 13,
   "id": "requested-reference",
   "metadata": {},
   "outputs": [],
   "source": [
    "model.compile(optimizer='adam',\n",
    "              loss='binary_crossentropy',\n",
    "              metrics=['accuracy'])"
   ]
  },
  {
   "cell_type": "code",
   "execution_count": 14,
   "id": "integrated-religion",
   "metadata": {},
   "outputs": [],
   "source": [
    "x_val = train_data[:10000]\n",
    "partial_x_train = train_data[10000:]\n",
    "\n",
    "y_val = train_labels[:10000]\n",
    "partial_y_train = train_labels[10000:]"
   ]
  },
  {
   "cell_type": "code",
   "execution_count": 15,
   "id": "possible-junction",
   "metadata": {},
   "outputs": [
    {
     "name": "stdout",
     "output_type": "stream",
     "text": [
      "Epoch 1/40\n",
      "30/30 [==============================] - 1s 19ms/step - loss: 0.6919 - accuracy: 0.5036 - val_loss: 0.6902 - val_accuracy: 0.4949\n",
      "Epoch 2/40\n",
      "30/30 [==============================] - 0s 16ms/step - loss: 0.6866 - accuracy: 0.5197 - val_loss: 0.6832 - val_accuracy: 0.6172\n",
      "Epoch 3/40\n",
      "30/30 [==============================] - 0s 15ms/step - loss: 0.6752 - accuracy: 0.6636 - val_loss: 0.6688 - val_accuracy: 0.7019\n",
      "Epoch 4/40\n",
      "30/30 [==============================] - 0s 14ms/step - loss: 0.6550 - accuracy: 0.7394 - val_loss: 0.6460 - val_accuracy: 0.7379\n",
      "Epoch 5/40\n",
      "30/30 [==============================] - 0s 16ms/step - loss: 0.6251 - accuracy: 0.7736 - val_loss: 0.6143 - val_accuracy: 0.7842\n",
      "Epoch 6/40\n",
      "30/30 [==============================] - 0s 13ms/step - loss: 0.5857 - accuracy: 0.8054 - val_loss: 0.5757 - val_accuracy: 0.7950\n",
      "Epoch 7/40\n",
      "30/30 [==============================] - 0s 13ms/step - loss: 0.5400 - accuracy: 0.8281 - val_loss: 0.5315 - val_accuracy: 0.8210\n",
      "Epoch 8/40\n",
      "30/30 [==============================] - 0s 13ms/step - loss: 0.4927 - accuracy: 0.8453 - val_loss: 0.4894 - val_accuracy: 0.8342\n",
      "Epoch 9/40\n",
      "30/30 [==============================] - 0s 12ms/step - loss: 0.4476 - accuracy: 0.8603 - val_loss: 0.4511 - val_accuracy: 0.8433\n",
      "Epoch 10/40\n",
      "30/30 [==============================] - 0s 13ms/step - loss: 0.4072 - accuracy: 0.8717 - val_loss: 0.4190 - val_accuracy: 0.8502\n",
      "Epoch 11/40\n",
      "30/30 [==============================] - 0s 13ms/step - loss: 0.3726 - accuracy: 0.8808 - val_loss: 0.3922 - val_accuracy: 0.8578\n",
      "Epoch 12/40\n",
      "30/30 [==============================] - 0s 13ms/step - loss: 0.3434 - accuracy: 0.8878 - val_loss: 0.3708 - val_accuracy: 0.8644\n",
      "Epoch 13/40\n",
      "30/30 [==============================] - 0s 13ms/step - loss: 0.3185 - accuracy: 0.8953 - val_loss: 0.3529 - val_accuracy: 0.8678\n",
      "Epoch 14/40\n",
      "30/30 [==============================] - 0s 13ms/step - loss: 0.2967 - accuracy: 0.9009 - val_loss: 0.3390 - val_accuracy: 0.8708\n",
      "Epoch 15/40\n",
      "30/30 [==============================] - 0s 14ms/step - loss: 0.2778 - accuracy: 0.9050 - val_loss: 0.3270 - val_accuracy: 0.8736\n",
      "Epoch 16/40\n",
      "30/30 [==============================] - 0s 15ms/step - loss: 0.2616 - accuracy: 0.9111 - val_loss: 0.3180 - val_accuracy: 0.8781\n",
      "Epoch 17/40\n",
      "30/30 [==============================] - 0s 14ms/step - loss: 0.2468 - accuracy: 0.9163 - val_loss: 0.3101 - val_accuracy: 0.8787\n",
      "Epoch 18/40\n",
      "30/30 [==============================] - 0s 13ms/step - loss: 0.2341 - accuracy: 0.9199 - val_loss: 0.3041 - val_accuracy: 0.8799\n",
      "Epoch 19/40\n",
      "30/30 [==============================] - 0s 14ms/step - loss: 0.2223 - accuracy: 0.9233 - val_loss: 0.2992 - val_accuracy: 0.8816\n",
      "Epoch 20/40\n",
      "30/30 [==============================] - 0s 13ms/step - loss: 0.2111 - accuracy: 0.9279 - val_loss: 0.2954 - val_accuracy: 0.8815\n",
      "Epoch 21/40\n",
      "30/30 [==============================] - 0s 13ms/step - loss: 0.2014 - accuracy: 0.9315 - val_loss: 0.2920 - val_accuracy: 0.8833\n",
      "Epoch 22/40\n",
      "30/30 [==============================] - 0s 15ms/step - loss: 0.1926 - accuracy: 0.9355 - val_loss: 0.2899 - val_accuracy: 0.8847\n",
      "Epoch 23/40\n",
      "30/30 [==============================] - 0s 14ms/step - loss: 0.1836 - accuracy: 0.9398 - val_loss: 0.2888 - val_accuracy: 0.8839\n",
      "Epoch 24/40\n",
      "30/30 [==============================] - 0s 16ms/step - loss: 0.1758 - accuracy: 0.9435 - val_loss: 0.2871 - val_accuracy: 0.8846\n",
      "Epoch 25/40\n",
      "30/30 [==============================] - 0s 14ms/step - loss: 0.1680 - accuracy: 0.9467 - val_loss: 0.2866 - val_accuracy: 0.8850\n",
      "Epoch 26/40\n",
      "30/30 [==============================] - 0s 13ms/step - loss: 0.1608 - accuracy: 0.9495 - val_loss: 0.2857 - val_accuracy: 0.8856\n",
      "Epoch 27/40\n",
      "30/30 [==============================] - 0s 14ms/step - loss: 0.1541 - accuracy: 0.9519 - val_loss: 0.2857 - val_accuracy: 0.8859\n",
      "Epoch 28/40\n",
      "30/30 [==============================] - 0s 17ms/step - loss: 0.1477 - accuracy: 0.9546 - val_loss: 0.2863 - val_accuracy: 0.8866\n",
      "Epoch 29/40\n",
      "30/30 [==============================] - 0s 13ms/step - loss: 0.1420 - accuracy: 0.9574 - val_loss: 0.2869 - val_accuracy: 0.8870\n",
      "Epoch 30/40\n",
      "30/30 [==============================] - 0s 13ms/step - loss: 0.1362 - accuracy: 0.9583 - val_loss: 0.2879 - val_accuracy: 0.8877\n",
      "Epoch 31/40\n",
      "30/30 [==============================] - 0s 13ms/step - loss: 0.1306 - accuracy: 0.9612 - val_loss: 0.2896 - val_accuracy: 0.8866\n",
      "Epoch 32/40\n",
      "30/30 [==============================] - 0s 13ms/step - loss: 0.1257 - accuracy: 0.9633 - val_loss: 0.2913 - val_accuracy: 0.8852\n",
      "Epoch 33/40\n",
      "30/30 [==============================] - 0s 12ms/step - loss: 0.1205 - accuracy: 0.9657 - val_loss: 0.2937 - val_accuracy: 0.8859\n",
      "Epoch 34/40\n",
      "30/30 [==============================] - 0s 14ms/step - loss: 0.1161 - accuracy: 0.9666 - val_loss: 0.2959 - val_accuracy: 0.8840\n",
      "Epoch 35/40\n",
      "30/30 [==============================] - 0s 15ms/step - loss: 0.1109 - accuracy: 0.9689 - val_loss: 0.2978 - val_accuracy: 0.8862\n",
      "Epoch 36/40\n",
      "30/30 [==============================] - 0s 16ms/step - loss: 0.1074 - accuracy: 0.9706 - val_loss: 0.3005 - val_accuracy: 0.8841\n",
      "Epoch 37/40\n",
      "30/30 [==============================] - 0s 14ms/step - loss: 0.1027 - accuracy: 0.9715 - val_loss: 0.3034 - val_accuracy: 0.8836\n",
      "Epoch 38/40\n",
      "30/30 [==============================] - 0s 17ms/step - loss: 0.0987 - accuracy: 0.9735 - val_loss: 0.3061 - val_accuracy: 0.8836\n",
      "Epoch 39/40\n",
      "30/30 [==============================] - 1s 17ms/step - loss: 0.0948 - accuracy: 0.9750 - val_loss: 0.3100 - val_accuracy: 0.8831\n",
      "Epoch 40/40\n",
      "30/30 [==============================] - 0s 14ms/step - loss: 0.0912 - accuracy: 0.9770 - val_loss: 0.3132 - val_accuracy: 0.8818\n"
     ]
    }
   ],
   "source": [
    "history = model.fit(partial_x_train,\n",
    "                    partial_y_train,\n",
    "                    epochs=40,\n",
    "                    batch_size=512,\n",
    "                    validation_data=(x_val, y_val),\n",
    "                    verbose=1)"
   ]
  },
  {
   "cell_type": "code",
   "execution_count": 16,
   "id": "rocky-founder",
   "metadata": {},
   "outputs": [
    {
     "name": "stdout",
     "output_type": "stream",
     "text": [
      "782/782 - 0s - loss: 0.3354 - accuracy: 0.8706\n",
      "[0.33538582921028137, 0.870639979839325]\n"
     ]
    }
   ],
   "source": [
    "results = model.evaluate(test_data,  test_labels, verbose=2)\n",
    "\n",
    "print(results)"
   ]
  },
  {
   "cell_type": "code",
   "execution_count": 17,
   "id": "young-cornwall",
   "metadata": {},
   "outputs": [
    {
     "data": {
      "text/plain": [
       "dict_keys(['loss', 'accuracy', 'val_loss', 'val_accuracy'])"
      ]
     },
     "execution_count": 17,
     "metadata": {},
     "output_type": "execute_result"
    }
   ],
   "source": [
    "history_dict = history.history\n",
    "history_dict.keys()"
   ]
  },
  {
   "cell_type": "code",
   "execution_count": 18,
   "id": "focused-berlin",
   "metadata": {},
   "outputs": [
    {
     "data": {
      "image/png": "[encoded data removed]",
      "text/plain": [
       "<Figure size 432x288 with 1 Axes>"
      ]
     },
     "metadata": {
      "needs_background": "light"
     },
     "output_type": "display_data"
    }
   ],
   "source": [
    "import matplotlib.pyplot as plt\n",
    "\n",
    "acc = history_dict['accuracy']\n",
    "val_acc = history_dict['val_accuracy']\n",
    "loss = history_dict['loss']\n",
    "val_loss = history_dict['val_loss']\n",
    "\n",
    "epochs = range(1, len(acc) + 1)\n",
    "\n",
    "# \"bo\"는 \"파란색 점\"입니다\n",
    "plt.plot(epochs, loss, 'bo', label='Training loss')\n",
    "# b는 \"파란 실선\"입니다\n",
    "plt.plot(epochs, val_loss, 'b', label='Validation loss')\n",
    "plt.title('Training and validation loss')\n",
    "plt.xlabel('Epochs')\n",
    "plt.ylabel('Loss')\n",
    "plt.legend()\n",
    "\n",
    "plt.show()"
   ]
  },
  {
   "cell_type": "code",
   "execution_count": 19,
   "id": "minor-escape",
   "metadata": {},
   "outputs": [
    {
     "data": {
      "image/png": "[encoded data removed]",
      "text/plain": [
       "<Figure size 432x288 with 1 Axes>"
      ]
     },
     "metadata": {
      "needs_background": "light"
     },
     "output_type": "display_data"
    }
   ],
   "source": [
    "plt.clf()   # 그림을 초기화합니다\n",
    "\n",
    "plt.plot(epochs, acc, 'bo', label='Training acc')\n",
    "plt.plot(epochs, val_acc, 'b', label='Validation acc')\n",
    "plt.title('Training and validation accuracy')\n",
    "plt.xlabel('Epochs')\n",
    "plt.ylabel('Accuracy')\n",
    "plt.legend()\n",
    "\n",
    "plt.show()"
   ]
  },
  {
   "cell_type": "code",
   "execution_count": null,
   "id": "fifteen-portal",
   "metadata": {},
   "outputs": [],
   "source": []
  }
 ],
 "metadata": {
  "kernelspec": {
   "display_name": "Python 3",
   "language": "python",
   "name": "python3"
  },
  "language_info": {
   "codemirror_mode": {
    "name": "ipython",
    "version": 3
   },
   "file_extension": ".py",
   "mimetype": "text/x-python",
   "name": "python",
   "nbconvert_exporter": "python",
   "pygments_lexer": "ipython3",
   "version": "3.7.10"
  }
 },
 "nbformat": 4,
 "nbformat_minor": 5
}
